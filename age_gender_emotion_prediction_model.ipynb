{
  "nbformat": 4,
  "nbformat_minor": 0,
  "metadata": {
    "colab": {
      "provenance": []
    },
    "kernelspec": {
      "name": "python3",
      "display_name": "Python 3"
    },
    "language_info": {
      "name": "python"
    }
  },
  "cells": [
    {
      "cell_type": "code",
      "execution_count": 3,
      "metadata": {
        "id": "DDzykPdU3Dym",
        "colab": {
          "base_uri": "https://localhost:8080/"
        },
        "outputId": "452fb3e4-838d-4398-a13a-396cb506c5ec"
      },
      "outputs": [
        {
          "output_type": "stream",
          "name": "stderr",
          "text": [
            "WARNING:absl:`lr` is deprecated in Keras optimizer, please use `learning_rate` or use the legacy optimizer, e.g.,tf.keras.optimizers.legacy.Adam.\n"
          ]
        },
        {
          "output_type": "stream",
          "name": "stdout",
          "text": [
            "Model: \"model\"\n",
            "__________________________________________________________________________________________________\n",
            " Layer (type)                Output Shape                 Param #   Connected to                  \n",
            "==================================================================================================\n",
            " input_1 (InputLayer)        [(None, 21, 1)]              0         []                            \n",
            "                                                                                                  \n",
            " conv1d (Conv1D)             (None, 19, 32)               128       ['input_1[0][0]']             \n",
            "                                                                                                  \n",
            " max_pooling1d (MaxPooling1  (None, 9, 32)                0         ['conv1d[0][0]']              \n",
            " D)                                                                                               \n",
            "                                                                                                  \n",
            " conv1d_1 (Conv1D)           (None, 7, 64)                6208      ['max_pooling1d[0][0]']       \n",
            "                                                                                                  \n",
            " max_pooling1d_1 (MaxPoolin  (None, 3, 64)                0         ['conv1d_1[0][0]']            \n",
            " g1D)                                                                                             \n",
            "                                                                                                  \n",
            " flatten (Flatten)           (None, 192)                  0         ['max_pooling1d_1[0][0]']     \n",
            "                                                                                                  \n",
            " dense (Dense)               (None, 64)                   12352     ['flatten[0][0]']             \n",
            "                                                                                                  \n",
            " dense_1 (Dense)             (None, 64)                   12352     ['flatten[0][0]']             \n",
            "                                                                                                  \n",
            " dense_2 (Dense)             (None, 64)                   12352     ['flatten[0][0]']             \n",
            "                                                                                                  \n",
            " emotion (Dense)             (None, 6)                    390       ['dense[0][0]']               \n",
            "                                                                                                  \n",
            " age (Dense)                 (None, 8)                    520       ['dense_1[0][0]']             \n",
            "                                                                                                  \n",
            " gender (Dense)              (None, 2)                    130       ['dense_2[0][0]']             \n",
            "                                                                                                  \n",
            "==================================================================================================\n",
            "Total params: 44432 (173.56 KB)\n",
            "Trainable params: 44432 (173.56 KB)\n",
            "Non-trainable params: 0 (0.00 Byte)\n",
            "__________________________________________________________________________________________________\n",
            "Epoch 1/10\n",
            "149/149 [==============================] - 5s 13ms/step - loss: 3.8212 - emotion_loss: 1.5492 - age_loss: 1.6518 - gender_loss: 0.6201 - emotion_accuracy: 0.3578 - age_accuracy: 0.3566 - gender_accuracy: 0.6697 - val_loss: 3.6718 - val_emotion_loss: 1.5046 - val_age_loss: 1.5656 - val_gender_loss: 0.6017 - val_emotion_accuracy: 0.3829 - val_age_accuracy: 0.3728 - val_gender_accuracy: 0.6692\n",
            "Epoch 2/10\n",
            "149/149 [==============================] - 1s 6ms/step - loss: 3.5782 - emotion_loss: 1.4523 - age_loss: 1.5407 - gender_loss: 0.5852 - emotion_accuracy: 0.4072 - age_accuracy: 0.3727 - gender_accuracy: 0.7016 - val_loss: 3.5674 - val_emotion_loss: 1.4719 - val_age_loss: 1.5062 - val_gender_loss: 0.5894 - val_emotion_accuracy: 0.4022 - val_age_accuracy: 0.4240 - val_gender_accuracy: 0.6902\n",
            "Epoch 3/10\n",
            "149/149 [==============================] - 1s 6ms/step - loss: 3.4522 - emotion_loss: 1.4120 - age_loss: 1.4748 - gender_loss: 0.5654 - emotion_accuracy: 0.4286 - age_accuracy: 0.4166 - gender_accuracy: 0.7199 - val_loss: 3.5079 - val_emotion_loss: 1.4548 - val_age_loss: 1.4632 - val_gender_loss: 0.5899 - val_emotion_accuracy: 0.4039 - val_age_accuracy: 0.4500 - val_gender_accuracy: 0.6851\n",
            "Epoch 4/10\n",
            "149/149 [==============================] - 1s 5ms/step - loss: 3.3703 - emotion_loss: 1.3932 - age_loss: 1.4277 - gender_loss: 0.5495 - emotion_accuracy: 0.4360 - age_accuracy: 0.4414 - gender_accuracy: 0.7274 - val_loss: 3.4796 - val_emotion_loss: 1.4482 - val_age_loss: 1.4522 - val_gender_loss: 0.5792 - val_emotion_accuracy: 0.4123 - val_age_accuracy: 0.4408 - val_gender_accuracy: 0.6885\n",
            "Epoch 5/10\n",
            "149/149 [==============================] - 1s 5ms/step - loss: 3.3046 - emotion_loss: 1.3726 - age_loss: 1.3863 - gender_loss: 0.5457 - emotion_accuracy: 0.4462 - age_accuracy: 0.4551 - gender_accuracy: 0.7306 - val_loss: 3.4278 - val_emotion_loss: 1.4245 - val_age_loss: 1.4135 - val_gender_loss: 0.5898 - val_emotion_accuracy: 0.4139 - val_age_accuracy: 0.4568 - val_gender_accuracy: 0.7011\n",
            "Epoch 6/10\n",
            "149/149 [==============================] - 1s 5ms/step - loss: 3.2385 - emotion_loss: 1.3496 - age_loss: 1.3535 - gender_loss: 0.5354 - emotion_accuracy: 0.4584 - age_accuracy: 0.4675 - gender_accuracy: 0.7379 - val_loss: 3.3745 - val_emotion_loss: 1.4144 - val_age_loss: 1.3844 - val_gender_loss: 0.5757 - val_emotion_accuracy: 0.4274 - val_age_accuracy: 0.4694 - val_gender_accuracy: 0.7011\n",
            "Epoch 7/10\n",
            "149/149 [==============================] - 1s 6ms/step - loss: 3.1808 - emotion_loss: 1.3326 - age_loss: 1.3202 - gender_loss: 0.5281 - emotion_accuracy: 0.4624 - age_accuracy: 0.4859 - gender_accuracy: 0.7415 - val_loss: 3.3816 - val_emotion_loss: 1.4251 - val_age_loss: 1.3927 - val_gender_loss: 0.5638 - val_emotion_accuracy: 0.4316 - val_age_accuracy: 0.4593 - val_gender_accuracy: 0.7112\n",
            "Epoch 8/10\n",
            "149/149 [==============================] - 1s 6ms/step - loss: 3.1294 - emotion_loss: 1.3225 - age_loss: 1.2902 - gender_loss: 0.5168 - emotion_accuracy: 0.4660 - age_accuracy: 0.5010 - gender_accuracy: 0.7522 - val_loss: 3.3483 - val_emotion_loss: 1.4081 - val_age_loss: 1.3563 - val_gender_loss: 0.5839 - val_emotion_accuracy: 0.4307 - val_age_accuracy: 0.4727 - val_gender_accuracy: 0.7053\n",
            "Epoch 9/10\n",
            "149/149 [==============================] - 1s 6ms/step - loss: 3.0790 - emotion_loss: 1.3033 - age_loss: 1.2620 - gender_loss: 0.5137 - emotion_accuracy: 0.4796 - age_accuracy: 0.4990 - gender_accuracy: 0.7488 - val_loss: 3.3404 - val_emotion_loss: 1.4082 - val_age_loss: 1.3448 - val_gender_loss: 0.5874 - val_emotion_accuracy: 0.4215 - val_age_accuracy: 0.4744 - val_gender_accuracy: 0.6910\n",
            "Epoch 10/10\n",
            "149/149 [==============================] - 1s 5ms/step - loss: 3.0254 - emotion_loss: 1.2908 - age_loss: 1.2293 - gender_loss: 0.5052 - emotion_accuracy: 0.4813 - age_accuracy: 0.5185 - gender_accuracy: 0.7583 - val_loss: 3.3541 - val_emotion_loss: 1.4164 - val_age_loss: 1.3560 - val_gender_loss: 0.5817 - val_emotion_accuracy: 0.4316 - val_age_accuracy: 0.4660 - val_gender_accuracy: 0.6961\n"
          ]
        },
        {
          "output_type": "execute_result",
          "data": {
            "text/plain": [
              "<keras.src.callbacks.History at 0x7fac846f7a60>"
            ]
          },
          "metadata": {},
          "execution_count": 3
        }
      ],
      "source": [
        "import pandas as pd\n",
        "from sklearn.model_selection import train_test_split\n",
        "from sklearn.preprocessing import StandardScaler, LabelEncoder\n",
        "from keras.models import Model\n",
        "from keras.layers import Input, Conv1D, MaxPooling1D, Flatten, Dense, Concatenate\n",
        "from keras.optimizers import Adam\n",
        "from keras.utils import to_categorical\n",
        "\n",
        "# Load the CSV file\n",
        "df = pd.read_csv('edited_file.csv')\n",
        "\n",
        "# Assuming the features are in columns 0 to 20, and the labels are in columns 21, 22, and 23\n",
        "X = df.iloc[:, :21].values\n",
        "y_emotion = df.iloc[:, 21].values  # Assuming 'emotion' is in column 21\n",
        "y_age = df.iloc[:, 22].values  # Assuming 'age' is in column 22\n",
        "y_gender = df.iloc[:, 23].values  # Assuming 'gender' is in column 23\n",
        "\n",
        "# Use LabelEncoder for 'emotion'\n",
        "label_encoder = LabelEncoder()\n",
        "y_emotion_encoded = label_encoder.fit_transform(y_emotion)\n",
        "num_emotion_classes = len(label_encoder.classes_)\n",
        "\n",
        "# Convert categorical labels to one-hot encoding\n",
        "y_emotion = to_categorical(y_emotion_encoded, num_classes=num_emotion_classes)\n",
        "y_age = to_categorical(y_age, num_classes=8)\n",
        "y_gender = to_categorical(y_gender, num_classes=2)\n",
        "\n",
        "# Split the data into training and testing sets\n",
        "X_train, X_test, y_emotion_train, y_emotion_test, y_age_train, y_age_test, y_gender_train, y_gender_test = train_test_split(\n",
        "    X, y_emotion, y_age, y_gender, test_size=0.2, random_state=42\n",
        ")\n",
        "\n",
        "# Standardize the input features\n",
        "scaler = StandardScaler()\n",
        "X_train = scaler.fit_transform(X_train)\n",
        "X_test = scaler.transform(X_test)\n",
        "\n",
        "# CNN Layers\n",
        "inputs_cnn = Input(shape=(21, 1))\n",
        "conv1 = Conv1D(32, 3, activation='relu')(inputs_cnn)\n",
        "pool1 = MaxPooling1D(pool_size=2)(conv1)\n",
        "conv2 = Conv1D(64, 3, activation='relu')(pool1)\n",
        "pool2 = MaxPooling1D(pool_size=2)(conv2)\n",
        "flat_cnn = Flatten()(pool2)\n",
        "\n",
        "# Dense Layers\n",
        "dense1 = Dense(64, activation='relu')(flat_cnn)\n",
        "dense2 = Dense(64, activation='relu')(flat_cnn)\n",
        "dense3 = Dense(64, activation='relu')(flat_cnn)\n",
        "\n",
        "# Output Layers\n",
        "output_emotion = Dense(num_emotion_classes, activation='softmax', name='emotion')(dense1)\n",
        "output_age = Dense(8, activation='softmax', name='age')(dense2)\n",
        "output_gender = Dense(2, activation='softmax', name='gender')(dense3)\n",
        "\n",
        "# Create the model\n",
        "model = Model(inputs=inputs_cnn, outputs=[output_emotion, output_age, output_gender])\n",
        "\n",
        "# Compile the model\n",
        "model.compile(optimizer=Adam(lr=0.001),\n",
        "              loss={'emotion': 'categorical_crossentropy', 'age': 'categorical_crossentropy', 'gender': 'categorical_crossentropy'},\n",
        "              metrics={'emotion': 'accuracy', 'age': 'accuracy', 'gender': 'accuracy'})\n",
        "\n",
        "# Display the model summary\n",
        "model.summary()\n",
        "\n",
        "# Train the model\n",
        "model.fit(X_train, [y_emotion_train, y_age_train, y_gender_train], epochs=10, batch_size=32, validation_split=0.2)\n"
      ]
    },
    {
      "cell_type": "code",
      "source": [
        "# Evaluate the model on the test set\n",
        "evaluation = model.evaluate(X_test, [y_emotion_test, y_age_test, y_gender_test])\n",
        "\n",
        "# Print the evaluation metrics\n",
        "print(f\"Test Loss: {evaluation[0]}\")\n",
        "print(f\"Emotion Accuracy: {evaluation[3] * 100:.2f}%\")\n",
        "print(f\"Age Accuracy: {evaluation[4] * 100:.2f}%\")\n",
        "print(f\"Gender Accuracy: {evaluation[5] * 100:.2f}%\")\n"
      ],
      "metadata": {
        "colab": {
          "base_uri": "https://localhost:8080/"
        },
        "id": "7t1N9iUh_wvj",
        "outputId": "db714a83-a147-439e-cce0-c69aa020d03e"
      },
      "execution_count": 4,
      "outputs": [
        {
          "output_type": "stream",
          "name": "stdout",
          "text": [
            "47/47 [==============================] - 0s 3ms/step - loss: 3.3044 - emotion_loss: 1.4292 - age_loss: 1.3380 - gender_loss: 0.5372 - emotion_accuracy: 0.4177 - age_accuracy: 0.4809 - gender_accuracy: 0.7314\n",
            "Test Loss: 3.304385185241699\n",
            "Emotion Accuracy: 53.72%\n",
            "Age Accuracy: 41.77%\n",
            "Gender Accuracy: 48.09%\n"
          ]
        }
      ]
    },
    {
      "cell_type": "code",
      "source": [
        "import numpy as np\n",
        "\n",
        "# Custom input\n",
        "custom_input = np.array([[2679.9395691628692 ,3347.669488765762, 5745.486745886655\n",
        " -625.2181396484375, 111.32093811035156 ,6.3269944190979 ,34.75761413574219,\n",
        " 31.619901657104492 ,-4.714645862579346 ,-0.486030638217926,\n",
        " -4.934024333953857 ,-12.714733123779297 ,-2.0551483631134033,\n",
        " -3.7411177158355713, -10.702962875366211, -11.20263671875,\n",
        " -12.003522872924805, -8.489580154418945 ,-5.463275909423828,\n",
        " -4.954216480255127, -3.715198278427124,-6.338474273681641]])\n",
        "\n",
        "# Standardize the custom input\n",
        "custom_input = scaler.transform(custom_input)\n",
        "\n",
        "# Reshape the input to match the model's input shape\n",
        "custom_input = custom_input.reshape((1, 21, 1))\n",
        "\n",
        "# Make predictions\n",
        "predictions = model.predict(custom_input)\n",
        "\n",
        "# Extract the predictions for each output\n",
        "emotion_prediction = predictions[0]\n",
        "age_prediction = predictions[1]\n",
        "gender_prediction = predictions[2]\n",
        "\n",
        "# Decode emotion predictions using the LabelEncoder\n",
        "emotion_prediction_decoded = label_encoder.inverse_transform(np.argmax(emotion_prediction, axis=1))\n",
        "\n",
        "# Print the predictions\n",
        "print(f\"Emotion Prediction: {emotion_prediction_decoded}\")\n",
        "print(f\"Age Prediction: {np.argmax(age_prediction, axis=1)}\")\n",
        "print(f\"Gender Prediction: {np.argmax(gender_prediction, axis=1)}\")\n"
      ],
      "metadata": {
        "colab": {
          "base_uri": "https://localhost:8080/"
        },
        "id": "qCNbx-GM_6sk",
        "outputId": "157ae189-1bca-478c-d7a2-f4dde22262a1"
      },
      "execution_count": 8,
      "outputs": [
        {
          "output_type": "stream",
          "name": "stdout",
          "text": [
            "1/1 [==============================] - 0s 35ms/step\n",
            "Emotion Prediction: [0]\n",
            "Age Prediction: [7]\n",
            "Gender Prediction: [0]\n"
          ]
        }
      ]
    },
    {
      "cell_type": "code",
      "source": [
        "# Save the entire model to a HDF5 file\n",
        "model.save('all_model.h5')\n"
      ],
      "metadata": {
        "colab": {
          "base_uri": "https://localhost:8080/"
        },
        "id": "DF6U6eS-__nQ",
        "outputId": "49a1f5b8-3263-4b39-9bf4-c69ca4335e2c"
      },
      "execution_count": null,
      "outputs": [
        {
          "output_type": "stream",
          "name": "stderr",
          "text": [
            "/usr/local/lib/python3.10/dist-packages/keras/src/engine/training.py:3000: UserWarning: You are saving your model as an HDF5 file via `model.save()`. This file format is considered legacy. We recommend using instead the native Keras format, e.g. `model.save('my_model.keras')`.\n",
            "  saving_api.save_model(\n"
          ]
        }
      ]
    },
    {
      "cell_type": "code",
      "source": [],
      "metadata": {
        "id": "Lt7isPGA0Zna"
      },
      "execution_count": null,
      "outputs": []
    }
  ]
}